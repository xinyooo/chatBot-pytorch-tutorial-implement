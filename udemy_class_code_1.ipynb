{
 "cells": [
  {
   "cell_type": "code",
   "execution_count": 1,
   "metadata": {},
   "outputs": [],
   "source": [
    "import torch"
   ]
  },
  {
   "cell_type": "code",
   "execution_count": 2,
   "metadata": {},
   "outputs": [
    {
     "name": "stdout",
     "output_type": "stream",
     "text": [
      "tensor([2, 2, 1])\n"
     ]
    }
   ],
   "source": [
    "a = torch.tensor([2,2,1])\n",
    "print(a)"
   ]
  },
  {
   "cell_type": "code",
   "execution_count": 3,
   "metadata": {},
   "outputs": [
    {
     "name": "stdout",
     "output_type": "stream",
     "text": [
      "tensor([[2, 1, 4],\n",
      "        [3, 5, 4],\n",
      "        [1, 2, 0],\n",
      "        [4, 3, 2]])\n"
     ]
    }
   ],
   "source": [
    "b = torch.tensor([[2,1,4],[3,5,4],[1,2,0],[4,3,2]])\n",
    "print(b)"
   ]
  },
  {
   "cell_type": "code",
   "execution_count": 4,
   "metadata": {
    "scrolled": true
   },
   "outputs": [
    {
     "name": "stdout",
     "output_type": "stream",
     "text": [
      "torch.Size([3])\n",
      "torch.Size([4, 3])\n",
      "torch.Size([3])\n",
      "torch.Size([4, 3])\n"
     ]
    }
   ],
   "source": [
    "print(a.shape)\n",
    "print(b.shape)\n",
    "print(a.size())\n",
    "print(b.size())"
   ]
  },
  {
   "cell_type": "code",
   "execution_count": 5,
   "metadata": {},
   "outputs": [
    {
     "name": "stdout",
     "output_type": "stream",
     "text": [
      "4\n"
     ]
    }
   ],
   "source": [
    "print(b.shape[0])"
   ]
  },
  {
   "cell_type": "code",
   "execution_count": 6,
   "metadata": {},
   "outputs": [],
   "source": [
    "c = torch.FloatTensor([[2,1,4],[3,5,4],[1,2,0],[4,3,2]])"
   ]
  },
  {
   "cell_type": "code",
   "execution_count": 7,
   "metadata": {},
   "outputs": [],
   "source": [
    "d = torch.DoubleTensor([[2,1,4],[3,5,4],[1,2,0],[4,3,2]])"
   ]
  },
  {
   "cell_type": "code",
   "execution_count": 8,
   "metadata": {},
   "outputs": [
    {
     "name": "stdout",
     "output_type": "stream",
     "text": [
      "tensor([[2., 1., 4.],\n",
      "        [3., 5., 4.],\n",
      "        [1., 2., 0.],\n",
      "        [4., 3., 2.]])\n",
      "torch.float32\n"
     ]
    }
   ],
   "source": [
    "print(c)\n",
    "print(c.dtype)"
   ]
  },
  {
   "cell_type": "code",
   "execution_count": 9,
   "metadata": {
    "scrolled": true
   },
   "outputs": [
    {
     "name": "stdout",
     "output_type": "stream",
     "text": [
      "tensor([[2., 1., 4.],\n",
      "        [3., 5., 4.],\n",
      "        [1., 2., 0.],\n",
      "        [4., 3., 2.]], dtype=torch.float64)\n",
      "torch.float64\n"
     ]
    }
   ],
   "source": [
    "print(d)\n",
    "print(d.dtype)"
   ]
  },
  {
   "cell_type": "code",
   "execution_count": 10,
   "metadata": {},
   "outputs": [
    {
     "name": "stdout",
     "output_type": "stream",
     "text": [
      "tensor(2.5833)\n"
     ]
    }
   ],
   "source": [
    "print(c.mean())"
   ]
  },
  {
   "cell_type": "code",
   "execution_count": 11,
   "metadata": {},
   "outputs": [
    {
     "name": "stdout",
     "output_type": "stream",
     "text": [
      "tensor(2.5833, dtype=torch.float64)\n"
     ]
    }
   ],
   "source": [
    "print(d.mean())"
   ]
  },
  {
   "cell_type": "code",
   "execution_count": 12,
   "metadata": {},
   "outputs": [
    {
     "name": "stdout",
     "output_type": "stream",
     "text": [
      "tensor(1.5050)\n",
      "tensor(1.5050, dtype=torch.float64)\n"
     ]
    }
   ],
   "source": [
    "print(c.std())\n",
    "print(d.std())"
   ]
  },
  {
   "cell_type": "code",
   "execution_count": 13,
   "metadata": {},
   "outputs": [
    {
     "name": "stdout",
     "output_type": "stream",
     "text": [
      "tensor([[2],\n",
      "        [1],\n",
      "        [4],\n",
      "        [3],\n",
      "        [5],\n",
      "        [4],\n",
      "        [1],\n",
      "        [2],\n",
      "        [0],\n",
      "        [4],\n",
      "        [3],\n",
      "        [2]])\n",
      "tensor([2, 1, 4, 3, 5, 4, 1, 2, 0, 4, 3, 2])\n",
      "tensor([[2, 1, 4, 3],\n",
      "        [5, 4, 1, 2],\n",
      "        [0, 4, 3, 2]])\n",
      "tensor([[2, 1, 4, 3],\n",
      "        [5, 4, 1, 2],\n",
      "        [0, 4, 3, 2]])\n",
      "tensor([[2, 1, 4, 3, 5, 4, 1, 2, 0, 4, 3, 2]])\n",
      "torch.Size([1, 12])\n",
      "\n",
      "\n",
      "tensor([[-0.5643,  0.4349,  0.5832, -1.1766, -0.9057, -0.2432,  0.3097, -1.4546,\n",
      "         -0.2950, -0.2917, -1.1964, -0.8733],\n",
      "        [-0.7681, -1.6774, -1.1780,  1.8996,  0.9538, -1.6882, -1.1463,  1.5352,\n",
      "         -0.1275,  1.9035, -1.5479,  0.9656]])\n",
      "tensor([[-0.5643,  0.4349,  0.5832, -1.1766, -0.9057, -0.2432,  0.3097, -1.4546,\n",
      "         -0.2950, -0.2917, -1.1964, -0.8733],\n",
      "        [-0.7681, -1.6774, -1.1780,  1.8996,  0.9538, -1.6882, -1.1463,  1.5352,\n",
      "         -0.1275,  1.9035, -1.5479,  0.9656]])\n"
     ]
    }
   ],
   "source": [
    "print(b.view(-1,1))\n",
    "print(b.view(12))\n",
    "print(b.view(-1,4))\n",
    "print(b.view(3,4))\n",
    "b = b.view(1,-1)\n",
    "print(b)\n",
    "print(b.shape)\n",
    "print('\\n')\n",
    "three_dim = torch.randn(2,3,4)\n",
    "print(three_dim.view(2,12))\n",
    "print(three_dim.view(2,-1))"
   ]
  },
  {
   "cell_type": "code",
   "execution_count": 14,
   "metadata": {},
   "outputs": [
    {
     "name": "stdout",
     "output_type": "stream",
     "text": [
      "tensor([[0.0578, 0.6740, 0.1284, 0.2071],\n",
      "        [0.9002, 0.3805, 0.0907, 0.7371],\n",
      "        [0.2113, 0.7672, 0.6542, 0.5547],\n",
      "        [0.4361, 0.9022, 0.1914, 0.2274]])\n"
     ]
    }
   ],
   "source": [
    "r = torch.rand(4,4)\n",
    "print(r)"
   ]
  },
  {
   "cell_type": "code",
   "execution_count": 15,
   "metadata": {},
   "outputs": [
    {
     "name": "stdout",
     "output_type": "stream",
     "text": [
      "tensor([[ 2.4393, -0.7274,  1.2998,  1.3135],\n",
      "        [ 0.5891,  1.0965, -1.3559, -0.7842],\n",
      "        [ 1.0427, -0.3909,  0.3661,  0.2400],\n",
      "        [ 0.6558, -0.0834,  0.8879,  0.6317]])\n",
      "torch.float32\n"
     ]
    }
   ],
   "source": [
    "r2 = torch.randn(4,4)\n",
    "print(r2)\n",
    "print(r2.dtype)"
   ]
  },
  {
   "cell_type": "code",
   "execution_count": 16,
   "metadata": {},
   "outputs": [
    {
     "name": "stdout",
     "output_type": "stream",
     "text": [
      "tensor([8, 8, 6, 9, 6])\n",
      "torch.int64\n"
     ]
    }
   ],
   "source": [
    "in_array = torch.randint(6,10, (5,))\n",
    "print(in_array)\n",
    "print(in_array.dtype)"
   ]
  },
  {
   "cell_type": "code",
   "execution_count": 17,
   "metadata": {},
   "outputs": [
    {
     "name": "stdout",
     "output_type": "stream",
     "text": [
      "tensor([[9, 8, 9],\n",
      "        [7, 9, 8],\n",
      "        [8, 9, 8]])\n"
     ]
    }
   ],
   "source": [
    "in_array2 = torch.randint(6,10, (3,3))\n",
    "print(in_array2)"
   ]
  },
  {
   "cell_type": "code",
   "execution_count": 18,
   "metadata": {},
   "outputs": [
    {
     "name": "stdout",
     "output_type": "stream",
     "text": [
      "5\n",
      "9\n"
     ]
    }
   ],
   "source": [
    "print(torch.numel(in_array))\n",
    "print(torch.numel(in_array2))"
   ]
  },
  {
   "cell_type": "code",
   "execution_count": 19,
   "metadata": {},
   "outputs": [
    {
     "name": "stdout",
     "output_type": "stream",
     "text": [
      "tensor([[0, 0, 0],\n",
      "        [0, 0, 0],\n",
      "        [0, 0, 0]])\n",
      "tensor([[1., 1., 1.],\n",
      "        [1., 1., 1.],\n",
      "        [1., 1., 1.]])\n",
      "torch.float32\n"
     ]
    }
   ],
   "source": [
    "z = torch.zeros(3, 3, dtype=torch.long)\n",
    "print(z)\n",
    "o = torch.ones(3, 3)\n",
    "print(o)\n",
    "print(o.dtype)"
   ]
  },
  {
   "cell_type": "code",
   "execution_count": 20,
   "metadata": {},
   "outputs": [
    {
     "name": "stdout",
     "output_type": "stream",
     "text": [
      "tensor([[ 0.1431, -0.4595, -0.1280,  1.7773],\n",
      "        [ 1.5285,  0.4832,  0.1696,  1.7182],\n",
      "        [ 1.0328, -0.9389,  0.9240,  0.5985],\n",
      "        [ 1.6948, -1.0277, -0.4202, -2.3371]], dtype=torch.float64)\n"
     ]
    }
   ],
   "source": [
    "r2_like = torch.randn_like(r2, dtype=torch.double)\n",
    "print(r2_like)"
   ]
  },
  {
   "cell_type": "code",
   "execution_count": 21,
   "metadata": {},
   "outputs": [
    {
     "name": "stdout",
     "output_type": "stream",
     "text": [
      "tensor([[ 2.4971, -0.0534,  1.4283,  1.5206],\n",
      "        [ 1.4893,  1.4770, -1.2652, -0.0471],\n",
      "        [ 1.2540,  0.3763,  1.0203,  0.7946],\n",
      "        [ 1.0919,  0.8188,  1.0793,  0.8592]])\n"
     ]
    }
   ],
   "source": [
    "add_result = torch.add(r,r2)\n",
    "print(add_result)"
   ]
  },
  {
   "cell_type": "code",
   "execution_count": 22,
   "metadata": {},
   "outputs": [
    {
     "name": "stdout",
     "output_type": "stream",
     "text": [
      "tensor([[ 2.4971, -0.0534,  1.4283,  1.5206],\n",
      "        [ 1.4893,  1.4770, -1.2652, -0.0471],\n",
      "        [ 1.2540,  0.3763,  1.0203,  0.7946],\n",
      "        [ 1.0919,  0.8188,  1.0793,  0.8592]])\n"
     ]
    }
   ],
   "source": [
    "r2.add_(r)\n",
    "print(r2)"
   ]
  },
  {
   "cell_type": "code",
   "execution_count": 23,
   "metadata": {},
   "outputs": [
    {
     "name": "stdout",
     "output_type": "stream",
     "text": [
      "tensor([-0.0534,  1.4770,  0.3763,  0.8188])\n",
      "tensor([[ 2.4971, -0.0534],\n",
      "        [ 1.4893,  1.4770],\n",
      "        [ 1.2540,  0.3763],\n",
      "        [ 1.0919,  0.8188]])\n",
      "tensor([[ 2.4971, -0.0534,  1.4283,  1.5206],\n",
      "        [ 1.4893,  1.4770, -1.2652, -0.0471],\n",
      "        [ 1.2540,  0.3763,  1.0203,  0.7946]])\n",
      "tensor(0.7946)\n",
      "0.7946198582649231\n",
      "tensor([1.2540, 0.3763, 1.0203, 0.7946])\n"
     ]
    }
   ],
   "source": [
    "print(r2[:,1])\n",
    "print(r2[:,:2])\n",
    "print(r2[:3,:])\n",
    "num_ten = r2[2,3]\n",
    "print(num_ten)\n",
    "print(num_ten.item())\n",
    "print(r2[2,:])"
   ]
  },
  {
   "cell_type": "code",
   "execution_count": null,
   "metadata": {},
   "outputs": [],
   "source": []
  }
 ],
 "metadata": {
  "kernelspec": {
   "display_name": "Python 3",
   "language": "python",
   "name": "python3"
  },
  "language_info": {
   "codemirror_mode": {
    "name": "ipython",
    "version": 3
   },
   "file_extension": ".py",
   "mimetype": "text/x-python",
   "name": "python",
   "nbconvert_exporter": "python",
   "pygments_lexer": "ipython3",
   "version": "3.7.5"
  }
 },
 "nbformat": 4,
 "nbformat_minor": 2
}
