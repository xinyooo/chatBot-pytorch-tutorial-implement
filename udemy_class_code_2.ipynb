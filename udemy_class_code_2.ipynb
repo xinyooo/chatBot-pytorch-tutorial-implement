{
 "cells": [
  {
   "cell_type": "code",
   "execution_count": 1,
   "metadata": {},
   "outputs": [],
   "source": [
    "#numpy bridge\n",
    "import torch\n",
    "import numpy as np"
   ]
  },
  {
   "cell_type": "code",
   "execution_count": 2,
   "metadata": {},
   "outputs": [
    {
     "name": "stdout",
     "output_type": "stream",
     "text": [
      "tensor([1., 1., 1., 1., 1.])\n",
      "[1. 1. 1. 1. 1.]\n",
      "tensor([2., 2., 2., 2., 2.])\n",
      "[2. 2. 2. 2. 2.]\n"
     ]
    }
   ],
   "source": [
    "a = torch.ones(5)\n",
    "print(a)\n",
    "b = a.numpy()\n",
    "print(b)\n",
    "a.add_(1)\n",
    "print(a)\n",
    "print(b)"
   ]
  },
  {
   "cell_type": "code",
   "execution_count": 3,
   "metadata": {},
   "outputs": [
    {
     "name": "stdout",
     "output_type": "stream",
     "text": [
      "[2. 2. 2. 2. 2.]\n",
      "tensor([2., 2., 2., 2., 2.], dtype=torch.float64)\n"
     ]
    }
   ],
   "source": [
    "a = np.ones(5)\n",
    "b = torch.from_numpy(a)\n",
    "np.add(a, 1, out=a)\n",
    "print(a)\n",
    "print(b)"
   ]
  },
  {
   "cell_type": "code",
   "execution_count": 4,
   "metadata": {},
   "outputs": [
    {
     "name": "stdout",
     "output_type": "stream",
     "text": [
      "tensor([[ 1.0913,  0.6553, -0.1315,  0.3045],\n",
      "        [ 2.0415, -0.6233, -0.1290,  1.8594],\n",
      "        [-1.0400,  2.2507,  2.1910,  0.0384],\n",
      "        [-0.6325,  0.6967, -0.1766, -0.5784]], device='cuda:0')\n"
     ]
    }
   ],
   "source": [
    "r2 = torch.randn(4,4)\n",
    "#throw the tensor to GPU to compute\n",
    "r2 = r2.cuda()\n",
    "print(r2)"
   ]
  },
  {
   "cell_type": "code",
   "execution_count": 5,
   "metadata": {},
   "outputs": [
    {
     "name": "stdout",
     "output_type": "stream",
     "text": [
      "True\n",
      "tensor([[-1.1523, -1.1719,  1.2046, -1.2600],\n",
      "        [-1.0269,  1.1906, -0.5445, -1.3652],\n",
      "        [-0.4619,  0.5583,  0.2839,  0.1858],\n",
      "        [-0.4606, -1.6566, -0.8617,  0.1745]], device='cuda:0')\n"
     ]
    }
   ],
   "source": [
    "add_result = torch.randn(4,4)\n",
    "CUDA = torch.cuda.is_available()\n",
    "print(CUDA)\n",
    "if CUDA:\n",
    "    add_result = add_result.cuda()\n",
    "    print(add_result)"
   ]
  },
  {
   "cell_type": "code",
   "execution_count": 6,
   "metadata": {
    "scrolled": false
   },
   "outputs": [
    {
     "name": "stdout",
     "output_type": "stream",
     "text": [
      "tensor([[-0.0610, -0.5166,  1.0731, -0.9555],\n",
      "        [ 1.0146,  0.5673, -0.6734,  0.4942],\n",
      "        [-1.5018,  2.8090,  2.4749,  0.2242],\n",
      "        [-1.0931, -0.9599, -1.0383, -0.4038]], device='cuda:0')\n"
     ]
    }
   ],
   "source": [
    "add_result.add_(r2)\n",
    "print(add_result)"
   ]
  },
  {
   "cell_type": "code",
   "execution_count": 7,
   "metadata": {},
   "outputs": [
    {
     "name": "stdout",
     "output_type": "stream",
     "text": [
      "[2, 3, 4, 1]\n",
      "tensor([2, 3, 4, 1]) torch.int64\n"
     ]
    }
   ],
   "source": [
    "a = [2, 3, 4, 1]\n",
    "print(a)\n",
    "to_list = torch.tensor(a)\n",
    "print(to_list, to_list.dtype)"
   ]
  },
  {
   "cell_type": "code",
   "execution_count": 8,
   "metadata": {},
   "outputs": [
    {
     "name": "stdout",
     "output_type": "stream",
     "text": [
      "tensor([[1., 2.],\n",
      "        [3., 4.],\n",
      "        [5., 6.],\n",
      "        [7., 8.]]) torch.float32\n"
     ]
    }
   ],
   "source": [
    "data = [[1., 2.], [3., 4.], [5., 6.], [7., 8.]]\n",
    "T = torch.tensor(data)\n",
    "print(T, T.dtype)"
   ]
  },
  {
   "cell_type": "code",
   "execution_count": 9,
   "metadata": {},
   "outputs": [
    {
     "name": "stdout",
     "output_type": "stream",
     "text": [
      "tensor([[-0.1893,  0.6330,  0.5923,  0.6016,  0.4422],\n",
      "        [ 0.1990, -1.2316, -0.4411, -1.3718, -0.7151]])\n",
      "tensor([[ 1.1220,  1.3905,  1.8308, -0.4374,  0.8936],\n",
      "        [-2.6235, -0.3487,  0.5836, -0.9131,  1.6384],\n",
      "        [-0.0761,  0.9476,  0.1630,  0.6183,  0.2169]])\n",
      "\n",
      "\n",
      "tensor([[-0.1893,  0.6330,  0.5923,  0.6016,  0.4422],\n",
      "        [ 0.1990, -1.2316, -0.4411, -1.3718, -0.7151],\n",
      "        [ 1.1220,  1.3905,  1.8308, -0.4374,  0.8936],\n",
      "        [-2.6235, -0.3487,  0.5836, -0.9131,  1.6384],\n",
      "        [-0.0761,  0.9476,  0.1630,  0.6183,  0.2169]])\n",
      "\n",
      "\n",
      "tensor([[-0.8141, -1.5896, -0.5722],\n",
      "        [-0.9011, -0.1166,  1.6795]])\n",
      "tensor([[-0.8392, -2.2798,  0.2022, -1.0959,  1.4091],\n",
      "        [-0.1422,  0.0318,  0.1775,  0.9107,  1.8256]])\n",
      "\n",
      "\n",
      "tensor([[-0.8141, -1.5896, -0.5722, -0.8392, -2.2798,  0.2022, -1.0959,  1.4091],\n",
      "        [-0.9011, -0.1166,  1.6795, -0.1422,  0.0318,  0.1775,  0.9107,  1.8256]])\n",
      "\n",
      "\n"
     ]
    }
   ],
   "source": [
    "first_1 = torch.randn(2, 5)\n",
    "print(first_1)\n",
    "second_1 = torch.randn(3, 5)\n",
    "print(second_1)\n",
    "con_1 = torch.cat([first_1, second_1])\n",
    "print('\\n')\n",
    "print(con_1)\n",
    "print('\\n')\n",
    "first_2 = torch.randn(2, 3)\n",
    "print(first_2)\n",
    "second_2 = torch.randn(2, 5)\n",
    "print(second_2)\n",
    "con_2 = torch.cat([first_2, second_2], 1)\n",
    "print('\\n')\n",
    "print(con_2)\n",
    "print('\\n')"
   ]
  },
  {
   "cell_type": "code",
   "execution_count": 10,
   "metadata": {},
   "outputs": [
    {
     "name": "stdout",
     "output_type": "stream",
     "text": [
      "tensor([[1, 2, 3, 4]])\n",
      "torch.Size([1, 4])\n",
      "tensor([[1],\n",
      "        [2],\n",
      "        [3],\n",
      "        [4]])\n",
      "torch.Size([4, 1])\n",
      "\n",
      "\n",
      "tensor([[[0.6248, 0.8942, 0.6626, 0.1979],\n",
      "         [0.1428, 0.5534, 0.4331, 0.0940],\n",
      "         [0.1309, 0.0348, 0.5476, 0.2549]],\n",
      "\n",
      "        [[0.4734, 0.3673, 0.9955, 0.2063],\n",
      "         [0.0194, 0.7572, 0.6692, 0.1322],\n",
      "         [0.3205, 0.9291, 0.7288, 0.0814]]])\n",
      "\n",
      "\n",
      "tensor([[0.6626, 0.4331, 0.5476],\n",
      "        [0.9955, 0.6692, 0.7288]])\n",
      "torch.Size([2, 3])\n",
      "\n",
      "\n",
      "tensor([[[0.6626],\n",
      "         [0.4331],\n",
      "         [0.5476]],\n",
      "\n",
      "        [[0.9955],\n",
      "         [0.6692],\n",
      "         [0.7288]]])\n",
      "torch.Size([2, 3, 1])\n"
     ]
    }
   ],
   "source": [
    "tensor_1 = torch.tensor([1, 2, 3, 4])\n",
    "tensor_a = torch.unsqueeze(tensor_1, 0)\n",
    "print(tensor_a)\n",
    "print(tensor_a.shape)\n",
    "tensor_b = torch.unsqueeze(tensor_1, 1)\n",
    "print(tensor_b)\n",
    "print(tensor_b.shape)\n",
    "print('\\n')\n",
    "tensor_2 = torch.rand(2,3,4)\n",
    "print(tensor_2)\n",
    "print('\\n')\n",
    "tensor_c = tensor_2[:,:,2]\n",
    "print(tensor_c)\n",
    "print(tensor_c.shape)\n",
    "print('\\n')\n",
    "tensor_d = torch.unsqueeze(tensor_c, 2)\n",
    "print(tensor_d)\n",
    "print(tensor_d.shape)"
   ]
  },
  {
   "cell_type": "code",
   "execution_count": null,
   "metadata": {},
   "outputs": [],
   "source": []
  }
 ],
 "metadata": {
  "kernelspec": {
   "display_name": "Python 3",
   "language": "python",
   "name": "python3"
  },
  "language_info": {
   "codemirror_mode": {
    "name": "ipython",
    "version": 3
   },
   "file_extension": ".py",
   "mimetype": "text/x-python",
   "name": "python",
   "nbconvert_exporter": "python",
   "pygments_lexer": "ipython3",
   "version": "3.7.5"
  }
 },
 "nbformat": 4,
 "nbformat_minor": 2
}
